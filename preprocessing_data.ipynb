{
 "cells": [
  {
   "cell_type": "code",
   "execution_count": 8,
   "id": "115edf44-3180-40da-a3d6-d7b9ee2dccc2",
   "metadata": {
    "executionInfo": {
     "elapsed": 503,
     "status": "ok",
     "timestamp": 1622895363832,
     "user": {
      "displayName": "Tuấn Nguyễn",
      "photoUrl": "https://lh3.googleusercontent.com/a-/AOh14Gg4J-SP0ula9OZ8z2mCJzlMn_g7mBzRttqpE9CRAA=s64",
      "userId": "01883650610116172625"
     },
     "user_tz": -420
    },
    "id": "115edf44-3180-40da-a3d6-d7b9ee2dccc2"
   },
   "outputs": [],
   "source": [
    "import pandas as pd\n",
    "import string\n",
    "import re\n",
    "import pickle"
   ]
  },
  {
   "cell_type": "code",
   "execution_count": 9,
   "id": "DxFcGdUmMagz",
   "metadata": {
    "colab": {
     "base_uri": "https://localhost:8080/"
    },
    "executionInfo": {
     "elapsed": 26,
     "status": "ok",
     "timestamp": 1622895364338,
     "user": {
      "displayName": "Tuấn Nguyễn",
      "photoUrl": "https://lh3.googleusercontent.com/a-/AOh14Gg4J-SP0ula9OZ8z2mCJzlMn_g7mBzRttqpE9CRAA=s64",
      "userId": "01883650610116172625"
     },
     "user_tz": -420
    },
    "id": "DxFcGdUmMagz",
    "outputId": "94714a4a-c493-47c7-8031-e9d00a8f7acb"
   },
   "outputs": [
    {
     "name": "stdout",
     "output_type": "stream",
     "text": [
      "Drive already mounted at /content/drive; to attempt to forcibly remount, call drive.mount(\"/content/drive\", force_remount=True).\n"
     ]
    }
   ],
   "source": [
    "# from google.colab import drive\n",
    "# drive.mount('/content/drive')"
   ]
  },
  {
   "cell_type": "code",
   "execution_count": 10,
   "id": "XdDhQRmPMjk0",
   "metadata": {
    "executionInfo": {
     "elapsed": 23,
     "status": "ok",
     "timestamp": 1622895364340,
     "user": {
      "displayName": "Tuấn Nguyễn",
      "photoUrl": "https://lh3.googleusercontent.com/a-/AOh14Gg4J-SP0ula9OZ8z2mCJzlMn_g7mBzRttqpE9CRAA=s64",
      "userId": "01883650610116172625"
     },
     "user_tz": -420
    },
    "id": "XdDhQRmPMjk0"
   },
   "outputs": [],
   "source": [
    "path = ''"
   ]
  },
  {
   "cell_type": "code",
   "execution_count": 11,
   "id": "86d9e421-4e1d-4289-ae2a-fbe82919d0c3",
   "metadata": {
    "colab": {
     "base_uri": "https://localhost:8080/",
     "height": 206
    },
    "executionInfo": {
     "elapsed": 21,
     "status": "ok",
     "timestamp": 1622895364340,
     "user": {
      "displayName": "Tuấn Nguyễn",
      "photoUrl": "https://lh3.googleusercontent.com/a-/AOh14Gg4J-SP0ula9OZ8z2mCJzlMn_g7mBzRttqpE9CRAA=s64",
      "userId": "01883650610116172625"
     },
     "user_tz": -420
    },
    "id": "86d9e421-4e1d-4289-ae2a-fbe82919d0c3",
    "outputId": "67bc4f2b-af97-4f97-a150-f29f12be3c79"
   },
   "outputs": [
    {
     "data": {
      "text/html": [
       "<div>\n",
       "<style scoped>\n",
       "    .dataframe tbody tr th:only-of-type {\n",
       "        vertical-align: middle;\n",
       "    }\n",
       "\n",
       "    .dataframe tbody tr th {\n",
       "        vertical-align: top;\n",
       "    }\n",
       "\n",
       "    .dataframe thead th {\n",
       "        text-align: right;\n",
       "    }\n",
       "</style>\n",
       "<table border=\"1\" class=\"dataframe\">\n",
       "  <thead>\n",
       "    <tr style=\"text-align: right;\">\n",
       "      <th></th>\n",
       "      <th>postID</th>\n",
       "      <th>channel</th>\n",
       "      <th>content</th>\n",
       "      <th>title</th>\n",
       "    </tr>\n",
       "  </thead>\n",
       "  <tbody>\n",
       "    <tr>\n",
       "      <th>0</th>\n",
       "      <td>PO0000045185</td>\n",
       "      <td>Bất động sản Thiện Nhân</td>\n",
       "      <td>(Mã số: BT3289)\\n- Bán gấp lô đất, biệt thự có...</td>\n",
       "      <td>BT3289 - Flycam - HÀNG HÓT Bán đất và biệt thự...</td>\n",
       "    </tr>\n",
       "    <tr>\n",
       "      <th>1</th>\n",
       "      <td>PO0000045199</td>\n",
       "      <td>BĐS CẨM MỸ 1</td>\n",
       "      <td>Bán đất mặt tiền đương giải phóng ,giáp đường ...</td>\n",
       "      <td>Bán đất mặt tiền đương giải phóng ,giáp đường ...</td>\n",
       "    </tr>\n",
       "    <tr>\n",
       "      <th>2</th>\n",
       "      <td>PO0000045182</td>\n",
       "      <td>clip đường phố</td>\n",
       "      <td>*************************************\\nCảm ơn ...</td>\n",
       "      <td>bán đất biển bình châu sát ql 55 dt  6x22 thổ ...</td>\n",
       "    </tr>\n",
       "    <tr>\n",
       "      <th>3</th>\n",
       "      <td>PO0000045180</td>\n",
       "      <td>Đất Bà Rịa Vũng Tàu Giá rẻ phan Văn Hòa</td>\n",
       "      <td>rất thích hợp làm nghĩ dưỡng đầu tư sinh lời \\...</td>\n",
       "      <td>Bán nhà  mới xây giá 1t550tr</td>\n",
       "    </tr>\n",
       "    <tr>\n",
       "      <th>4</th>\n",
       "      <td>PO0000045183</td>\n",
       "      <td>Phạm Hữu Dư</td>\n",
       "      <td>Có 2 lô đất liền kề diện tích hơn 5200m2 có sẵ...</td>\n",
       "      <td>Bán đất vườn thổ cư 5238m2 giá mềm đẹp vuông v...</td>\n",
       "    </tr>\n",
       "  </tbody>\n",
       "</table>\n",
       "</div>"
      ],
      "text/plain": [
       "         postID  ...                                              title\n",
       "0  PO0000045185  ...  BT3289 - Flycam - HÀNG HÓT Bán đất và biệt thự...\n",
       "1  PO0000045199  ...  Bán đất mặt tiền đương giải phóng ,giáp đường ...\n",
       "2  PO0000045182  ...  bán đất biển bình châu sát ql 55 dt  6x22 thổ ...\n",
       "3  PO0000045180  ...                       Bán nhà  mới xây giá 1t550tr\n",
       "4  PO0000045183  ...  Bán đất vườn thổ cư 5238m2 giá mềm đẹp vuông v...\n",
       "\n",
       "[5 rows x 4 columns]"
      ]
     },
     "execution_count": 11,
     "metadata": {
      "tags": []
     },
     "output_type": "execute_result"
    }
   ],
   "source": [
    "df = pd.read_excel(path + 'datasets/real_estates.xlsx', index_col=0).dropna()\n",
    "df.head()"
   ]
  },
  {
   "cell_type": "code",
   "execution_count": 12,
   "id": "e7aed130-65e7-43e4-bd17-ccd6d87c5b46",
   "metadata": {
    "colab": {
     "base_uri": "https://localhost:8080/"
    },
    "executionInfo": {
     "elapsed": 17,
     "status": "ok",
     "timestamp": 1622895364342,
     "user": {
      "displayName": "Tuấn Nguyễn",
      "photoUrl": "https://lh3.googleusercontent.com/a-/AOh14Gg4J-SP0ula9OZ8z2mCJzlMn_g7mBzRttqpE9CRAA=s64",
      "userId": "01883650610116172625"
     },
     "user_tz": -420
    },
    "id": "e7aed130-65e7-43e4-bd17-ccd6d87c5b46",
    "outputId": "9f0af7d6-c994-4dbe-da87-9f4f84ca9836"
   },
   "outputs": [
    {
     "name": "stdout",
     "output_type": "stream",
     "text": [
      "['𝐆', 'g']\n",
      "['ẽ', 'e']\n",
      "[';', ';']\n",
      "['7', '7']\n",
      "['/', '/']\n",
      "['q', 'q']\n",
      "['(', '(']\n",
      "['ỡ', 'ỡ']\n",
      "['𝐐', 'q']\n",
      "['𝑲', 'k']\n",
      "['𝐬', 's']\n",
      "['c', 'c']\n",
      "['á', 'á']\n",
      "['𝗻', 'n']\n",
      "['ậ', 'ậ']\n",
      "['ấ', 'ấ']\n",
      "['ă', 'ă']\n",
      "['ị', 'ị']\n",
      "['ử', 'ử']\n",
      "['ọ', 'ọ']\n",
      "['𝙝', 'h']\n",
      "['𝐇', 'h']\n",
      "['ự', 'ự']\n",
      "['𝗛', 'h']\n",
      "['ộ', 'ộ']\n",
      "['õ', 'õ']\n",
      "['𝐞', 'e']\n",
      "['e', 'e']\n",
      "['ố', 'ố']\n",
      "['ù', 'ù']\n",
      "['f', 'f']\n",
      "['𝑿', 'x']\n",
      "['x', 'x']\n",
      "['ữ', 'ữ']\n",
      "['n', 'n']\n",
      "['ễ', 'ễ']\n",
      "['ế', 'ế']\n",
      "['j', 'j']\n",
      "['𝗮', 'a']\n",
      "['𝐢', 'i']\n",
      "['𝐫', 'r']\n",
      "['𝑮', '']\n",
      "['2', '2']\n",
      "['𝐕', 'v']\n",
      "['𝑳', 'l']\n",
      "['ặ', 'ặ']\n",
      "['@', '@']\n",
      "['p', 'p']\n",
      "['í', 'í']\n",
      "['ở', 'ở']\n",
      "['i', 'i']\n",
      "['𝘾', 'c']\n",
      "['𝑻', 't']\n",
      "['𝟰', '4']\n",
      "['ả', 'ả']\n",
      "['梦', ' ']\n",
      "['ầ', 'ầ']\n",
      "['ớ', 'ớ']\n",
      "['g', 'g']\n",
      "['𝙩', 't']\n",
      "['𝑵', 'n']\n",
      "['_', '_']\n",
      "['.', '.']\n",
      "['𝐓', 't']\n",
      "['ỹ', 'ỹ']\n",
      "['v', 'v']\n",
      "['è', 'è']\n",
      "['𝐨', 'o']\n",
      "['𝘀', 's']\n",
      "['𝘂', 'u']\n",
      "['ờ', 'ờ']\n",
      "['z', 'z']\n",
      "['𝙞', 'i']\n",
      "['-', '-']\n",
      "['𝗘', 'e']\n",
      "['6', '6']\n",
      "['ẳ', 'ằ']\n",
      "['𝗲', 'e']\n",
      "['𝐡', 'h']\n",
      "['𝙈', 'm']\n",
      "['ũ', 'ũ']\n",
      "['đ', 'đ']\n",
      "['𝗵', 'h']\n",
      "['𝐯', 'v']\n",
      "['w', 'w']\n",
      "['𝗰', 'c']\n",
      "['b', 'b']\n",
      "['9', '9']\n",
      "['ẵ', 'ẵ']\n",
      "['𝐤', 'k']\n",
      "['m', 'm']\n",
      "['ệ', 'ệ']\n",
      "['ằ', 'ằ']\n",
      "['𝙋', 'p']\n",
      "['ồ', 'ồ']\n",
      "['𝗣', 'p']\n",
      "['𝙖', 'a']\n",
      "['y', 'y']\n",
      "['|', '|']\n",
      "['𝗠', 'm']\n",
      "['𝐛', 'b']\n",
      "['𝙣', 'n']\n",
      "['𝑹', 'r']\n",
      "['ò', 'ò']\n",
      "['ắ', 'ắ']\n",
      "['o', 'o']\n",
      "['1', '1']\n",
      "['ê', 'ê']\n",
      "['𝐂', 'c']\n",
      "['𝑽', 'v']\n",
      "['𝟬', 'o']\n",
      "['𝗴', 'g']\n",
      "['徐', '']\n",
      "['t', 't']\n",
      "['â', 'â']\n",
      "['ư', 'ư']\n",
      "['𝙚', 'e']\n",
      "['𝗿', 'r']\n",
      "['𝐃', '']\n",
      "['𝘁', 't']\n",
      "['𝐚', 'a']\n",
      "['𝗺', 'm']\n",
      "['ơ', 'ơ']\n",
      "['ó', 'ó']\n",
      "['ừ', 'ừ']\n",
      "['𝗾', 'q']\n",
      "['𝗩', 'v']\n",
      "['𝐦', 'm']\n",
      "['𝐭', 't']\n",
      "['𝟭', '1']\n",
      "['𝗕', 'b']\n",
      "['h', 'h']\n",
      "['𝗜', 'i']\n",
      "['𝗧', 't']\n",
      "['𝑼', 'u']\n",
      "['𝐧', 'n']\n",
      "['𝐏', 'p']\n",
      "['𝙨', 's']\n",
      "['𝒀', 'y']\n",
      "['𝐮', 'u']\n",
      "['𝟮', '2']\n",
      "['𝑰', 'i']\n",
      "['𝐌', 'm']\n",
      "['𝐜', 'c']\n",
      "['𝟳', '7']\n",
      "['𝑾', 'w']\n",
      "['𝑨', 'a']\n",
      "['𝐪', 'q']\n",
      "['𝗽', 'p']\n",
      "['𝗶', 'i']\n",
      "['𝙤', 'o']\n",
      "['𝗖', 'c']\n",
      "['𝑴', 'm']\n",
      "['𝗸', 'k']\n",
      "['𝙧', 'r']\n",
      "['𝗔', 'a']\n",
      "['𝗱', 'd']\n",
      "['𝟗', '9']\n",
      "['𝐝', 'd']\n",
      "['𝘆', 'y']\n",
      "['𝑬', 'e']\n",
      "['²', '2']\n",
      "['圆', '']\n",
      "['𝗼', 'o']\n",
      "['𝐠', 'g']\n",
      "['𝑷', 'p']\n"
     ]
    },
    {
     "data": {
      "text/plain": [
       "551269"
      ]
     },
     "execution_count": 12,
     "metadata": {
      "tags": []
     },
     "output_type": "execute_result"
    }
   ],
   "source": [
    "# lấy tất cả đoạn chữ trong 3 cột khác với cột postID và nối lại\n",
    "corpus = '. '.join(df.iloc[:,1:].melt()['value'].values).lower()\n",
    "replace_char = [i.split(' ', 1) for i in open(path + 'datasets/replace_char.txt', 'r', encoding='utf-8').read().split('\\n')]\n",
    "for val in replace_char:\n",
    "  print(val)\n",
    "  old = val[0]\n",
    "  new = val[1]\n",
    "  corpus = corpus.replace(old, new)\n",
    "open(path + 'datasets/real_estates.txt', 'w', encoding='utf-8').write(corpus)\n",
    "len(corpus)"
   ]
  },
  {
   "cell_type": "code",
   "execution_count": 13,
   "id": "20c126fe-bb18-4f7a-bd9c-580a0439c3f5",
   "metadata": {
    "executionInfo": {
     "elapsed": 489,
     "status": "ok",
     "timestamp": 1622895364820,
     "user": {
      "displayName": "Tuấn Nguyễn",
      "photoUrl": "https://lh3.googleusercontent.com/a-/AOh14Gg4J-SP0ula9OZ8z2mCJzlMn_g7mBzRttqpE9CRAA=s64",
      "userId": "01883650610116172625"
     },
     "user_tz": -420
    },
    "id": "20c126fe-bb18-4f7a-bd9c-580a0439c3f5"
   },
   "outputs": [],
   "source": [
    "with open(path + 'datasets/replace_with_2_spaces.txt', 'r', encoding='utf-8') as f:\n",
    "    text_need_replace = f.read()\n",
    "    f.close()"
   ]
  },
  {
   "cell_type": "code",
   "execution_count": 14,
   "id": "1096ef8e-0984-4696-a1c2-49914bb640b8",
   "metadata": {
    "executionInfo": {
     "elapsed": 8,
     "status": "ok",
     "timestamp": 1622895364821,
     "user": {
      "displayName": "Tuấn Nguyễn",
      "photoUrl": "https://lh3.googleusercontent.com/a-/AOh14Gg4J-SP0ula9OZ8z2mCJzlMn_g7mBzRttqpE9CRAA=s64",
      "userId": "01883650610116172625"
     },
     "user_tz": -420
    },
    "id": "1096ef8e-0984-4696-a1c2-49914bb640b8"
   },
   "outputs": [],
   "source": [
    "def remove_link(text):\n",
    "    '''\n",
    "    hàm này dùng để xóa bỏ các link\n",
    "    '''\n",
    "    # xóa bỏ các đường link\n",
    "    text = re.sub(r'http\\S+', ' ', text)\n",
    "    # xóa bỏ các đường link www.asdf.com.vn\n",
    "    text = re.sub(r'www\\.\\w+(\\.com)?(\\.vn)?', ' ', text)\n",
    "    return text\n",
    "\n",
    "# xóa bỏ các emoji, icon\n",
    "def remove_emoji(text):\n",
    "    '''\n",
    "    hàm này dùng để xóa bỏ các emoji, icons\n",
    "    '''\n",
    "    pattern = r\"[\\U0001F600-\\U0001F64F\\U0001F300-\\U0001F5FF\\U0001F680-\\U0001F6FF\\U0001F1E0-\\U0001F1FF❤️★☘️☎️✅⚙“⛔✅☕✔☑]+►●⚠☞🤝🤗✓🥀✍🥦⛳➡ ⃣💞❤💎⚡👌😍🌟🏘📞☎🌺✅🏚🍓🌎🚗★🌳🍎👉😂'📱💥🤗📧🎡🍒📔🌲📺🐦\"\n",
    "    regex_pattern = re.compile(pattern, flags=re.UNICODE)\n",
    "    return regex_pattern.sub(r' ', text)\n",
    "\n",
    "def replace_with_2_space(text):\n",
    "    '''\n",
    "    hàm này dùng để thay thế từ trong file \n",
    "    '''\n",
    "    abbr_to_replace = [txt.split(' ', 1) for txt in text_need_replace.split('\\n')]\n",
    "    # print(f'Có {len(abbr_to_replace)} từ cần replace')\n",
    "    for line in abbr_to_replace:\n",
    "        old = line[0]\n",
    "        new = line[1]\n",
    "        text = text.replace(old, f' {new} ')\n",
    "        text = text.replace(new, f' {new} ')\n",
    "    return text\n",
    "\n",
    "def remove_much_spaces(text):\n",
    "    '''\n",
    "    hàm này xóa bỏ nhiều khoảng trắng, thay nó bằng dấu cách\n",
    "    '''\n",
    "    text = re.sub('\\s+', ' ', text)\n",
    "    return text\n",
    "    \n",
    "def pipeline_preprocessing_corpus(text):\n",
    "    '''\n",
    "    hàm này thực hiện các hàm trên với đoạn text đã cho\n",
    "    '''\n",
    "    for func in [remove_link, remove_emoji, replace_with_2_space, remove_much_spaces]:\n",
    "        text = func(text)\n",
    "    return text"
   ]
  },
  {
   "cell_type": "code",
   "execution_count": 15,
   "id": "0f698dd0-8034-4c6e-8653-cbc068b4b70f",
   "metadata": {
    "colab": {
     "base_uri": "https://localhost:8080/"
    },
    "executionInfo": {
     "elapsed": 487,
     "status": "ok",
     "timestamp": 1622895365302,
     "user": {
      "displayName": "Tuấn Nguyễn",
      "photoUrl": "https://lh3.googleusercontent.com/a-/AOh14Gg4J-SP0ula9OZ8z2mCJzlMn_g7mBzRttqpE9CRAA=s64",
      "userId": "01883650610116172625"
     },
     "user_tz": -420
    },
    "id": "0f698dd0-8034-4c6e-8653-cbc068b4b70f",
    "outputId": "5e784774-fcfa-4cb0-dd81-caedeeb9836f"
   },
   "outputs": [
    {
     "data": {
      "text/plain": [
       "565786"
      ]
     },
     "execution_count": 15,
     "metadata": {
      "tags": []
     },
     "output_type": "execute_result"
    }
   ],
   "source": [
    "corpus = pipeline_preprocessing_corpus(corpus)\n",
    "len(corpus)"
   ]
  },
  {
   "cell_type": "code",
   "execution_count": 16,
   "id": "a7a48e30-a3ae-42ea-ad27-9da48ec11d3a",
   "metadata": {
    "executionInfo": {
     "elapsed": 526,
     "status": "ok",
     "timestamp": 1622895365822,
     "user": {
      "displayName": "Tuấn Nguyễn",
      "photoUrl": "https://lh3.googleusercontent.com/a-/AOh14Gg4J-SP0ula9OZ8z2mCJzlMn_g7mBzRttqpE9CRAA=s64",
      "userId": "01883650610116172625"
     },
     "user_tz": -420
    },
    "id": "a7a48e30-a3ae-42ea-ad27-9da48ec11d3a"
   },
   "outputs": [],
   "source": [
    "with open(path + 'datasets/real_estates_preprocesed.txt', 'w', encoding='utf-8') as f:\n",
    "    f.write(corpus)\n",
    "    f.close()"
   ]
  }
 ],
 "metadata": {
  "colab": {
   "collapsed_sections": [],
   "name": "preprocessing_data.ipynb",
   "provenance": []
  },
  "kernelspec": {
   "display_name": "Python 3",
   "language": "python",
   "name": "python3"
  },
  "language_info": {
   "codemirror_mode": {
    "name": "ipython",
    "version": 3
   },
   "file_extension": ".py",
   "mimetype": "text/x-python",
   "name": "python",
   "nbconvert_exporter": "python",
   "pygments_lexer": "ipython3",
   "version": "3.8.8"
  },
  "widgets": {
   "application/vnd.jupyter.widget-state+json": {
    "state": {},
    "version_major": 2,
    "version_minor": 0
   }
  }
 },
 "nbformat": 4,
 "nbformat_minor": 5
}
