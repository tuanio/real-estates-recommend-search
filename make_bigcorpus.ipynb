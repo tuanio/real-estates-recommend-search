{
 "cells": [
  {
   "cell_type": "code",
   "execution_count": 1,
   "id": "1e2b0c86-34ba-4ff4-8f2d-35eadf8f04d1",
   "metadata": {},
   "outputs": [],
   "source": [
    "import os"
   ]
  },
  {
   "cell_type": "code",
   "execution_count": 11,
   "id": "942c9da5-d296-4491-8193-45819d0abfb8",
   "metadata": {},
   "outputs": [],
   "source": [
    "big_corpus = ''\n",
    "for source, dirs, files in os.walk('datasets/Train_Full/'):\n",
    "    for file in files:\n",
    "        data = os.path.join(source, file)\n",
    "        with open(data, 'r', encoding='utf--16') as f:\n",
    "            big_corpus += f.read()"
   ]
  },
  {
   "cell_type": "code",
   "execution_count": 12,
   "id": "3ac89ee0-a0b5-4cda-bb6d-9b63839c1dcc",
   "metadata": {},
   "outputs": [
    {
     "data": {
      "text/plain": [
       "98770932"
      ]
     },
     "execution_count": 12,
     "metadata": {},
     "output_type": "execute_result"
    }
   ],
   "source": [
    "len(big_corpus)"
   ]
  },
  {
   "cell_type": "code",
   "execution_count": 13,
   "id": "4d688e3a-7dc5-4982-9e55-76669a84faef",
   "metadata": {},
   "outputs": [],
   "source": [
    "with open('datasets/big_corpus.txt', 'w', encoding='utf-8') as f:\n",
    "    f.write(big_corpus)"
   ]
  }
 ],
 "metadata": {
  "kernelspec": {
   "display_name": "Python 3",
   "language": "python",
   "name": "python3"
  },
  "language_info": {
   "codemirror_mode": {
    "name": "ipython",
    "version": 3
   },
   "file_extension": ".py",
   "mimetype": "text/x-python",
   "name": "python",
   "nbconvert_exporter": "python",
   "pygments_lexer": "ipython3",
   "version": "3.8.8"
  },
  "widgets": {
   "application/vnd.jupyter.widget-state+json": {
    "state": {},
    "version_major": 2,
    "version_minor": 0
   }
  }
 },
 "nbformat": 4,
 "nbformat_minor": 5
}
